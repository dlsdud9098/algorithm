{
 "cells": [
  {
   "cell_type": "code",
   "execution_count": 2,
   "id": "b0769977",
   "metadata": {},
   "outputs": [],
   "source": [
    "m = {\n",
    "    1: 'a',\n",
    "    2: 'b',\n",
    "    3: 'c'\n",
    "}\n",
    "\n",
    "if 'a' in m:\n",
    "    print(1234)"
   ]
  },
  {
   "cell_type": "code",
   "execution_count": null,
   "id": "4ed002f5",
   "metadata": {},
   "outputs": [],
   "source": []
  }
 ],
 "metadata": {
  "kernelspec": {
   "display_name": "algorithm_venv",
   "language": "python",
   "name": "python3"
  },
  "language_info": {
   "codemirror_mode": {
    "name": "ipython",
    "version": 3
   },
   "file_extension": ".py",
   "mimetype": "text/x-python",
   "name": "python",
   "nbconvert_exporter": "python",
   "pygments_lexer": "ipython3",
   "version": "3.11.11"
  }
 },
 "nbformat": 4,
 "nbformat_minor": 5
}
