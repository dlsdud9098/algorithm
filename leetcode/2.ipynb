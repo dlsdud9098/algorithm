{
 "cells": [
  {
   "cell_type": "code",
   "execution_count": 1,
   "metadata": {},
   "outputs": [
    {
     "name": "stdout",
     "output_type": "stream",
     "text": [
      "ListNode{val: 2, next: ListNode{val: 4, next: ListNode{val: 3, next: None}}}\n",
      "ListNode{val: 5, next: ListNode{val: 6, next: ListNode{val: 4, next: None}}}\n"
     ]
    }
   ],
   "source": [
    "l1 = [9,9,9,9,9,9,9]\n",
    "l2 = [9,9,9,9]\n",
    "\n",
    "class ListNode:\n",
    "    def __init__(self, val=0, next=None):\n",
    "        self.val = val\n",
    "        self.next = next\n",
    "    def __repr__(self):\n",
    "        return f\"ListNode{{val: {self.val}, next: {repr(self.next)}}}\"\n",
    "\n",
    "l1 = ListNode(2, ListNode(4, ListNode(3)))\n",
    "l2 = ListNode(5, ListNode(6, ListNode(4)))\n",
    "\n",
    "print(l1)\n",
    "print(l2)"
   ]
  },
  {
   "cell_type": "code",
   "execution_count": 2,
   "metadata": {},
   "outputs": [
    {
     "ename": "TypeError",
     "evalue": "object of type 'ListNode' has no len()",
     "output_type": "error",
     "traceback": [
      "\u001b[31m---------------------------------------------------------------------------\u001b[39m",
      "\u001b[31mTypeError\u001b[39m                                 Traceback (most recent call last)",
      "\u001b[36mCell\u001b[39m\u001b[36m \u001b[39m\u001b[32mIn[2]\u001b[39m\u001b[32m, line 3\u001b[39m\n\u001b[32m      1\u001b[39m output = []\n\u001b[32m      2\u001b[39m carry = \u001b[32m0\u001b[39m\n\u001b[32m----> \u001b[39m\u001b[32m3\u001b[39m \u001b[38;5;28;01mif\u001b[39;00m \u001b[38;5;28;43mlen\u001b[39;49m\u001b[43m(\u001b[49m\u001b[43ml1\u001b[49m\u001b[43m)\u001b[49m >= \u001b[38;5;28mlen\u001b[39m(l2):\n\u001b[32m      4\u001b[39m     \u001b[38;5;66;03m# 리스트의 수를 맞춤\u001b[39;00m\n\u001b[32m      5\u001b[39m     \u001b[38;5;28;01mif\u001b[39;00m \u001b[38;5;129;01mnot\u001b[39;00m \u001b[38;5;28mlen\u001b[39m(l1) == \u001b[38;5;28mlen\u001b[39m(l2):\n\u001b[32m      6\u001b[39m         length = \u001b[38;5;28mlen\u001b[39m(l1) - \u001b[38;5;28mlen\u001b[39m(l2)\n",
      "\u001b[31mTypeError\u001b[39m: object of type 'ListNode' has no len()"
     ]
    }
   ],
   "source": [
    "output = []\n",
    "carry = 0\n",
    "if len(l1) >= len(l2):\n",
    "    # 리스트의 수를 맞춤\n",
    "    if not len(l1) == len(l2):\n",
    "        length = len(l1) - len(l2)\n",
    "        for _ in range(length):\n",
    "            l2.append(0)\n",
    "    \n",
    "    for l1_num, l2_num in zip(l1, l2):\n",
    "        add_num = l1_num + l2_num + carry\n",
    "        carry = 0\n",
    "        if add_num >= 10:\n",
    "            carry = 1\n",
    "            add_num -= 10\n",
    "            output.append(add_num)\n",
    "            \n",
    "    if carry == 1:\n",
    "        output.append(carry)\n",
    "output"
   ]
  },
  {
   "cell_type": "code",
   "execution_count": null,
   "metadata": {},
   "outputs": [],
   "source": [
    "carry = 0\n",
    "output = []\n",
    "\n",
    "l1_num = l1.val\n",
    "l2_num = l2.val\n",
    "\n",
    "l1_next = l1.next\n",
    "l2_next = l2.next\n",
    "\n",
    "# print(l1_num, l2_num)\n",
    "\n",
    "if not l1_next == None:\n",
    "    l1_next = l1_next.next\n",
    "if not l2_next == None:\n",
    "    l2_next = l2_next.next\n",
    "\n",
    "value = l1_num + l2_num + carry\n",
    "\n",
    "if value >= 10:\n",
    "    carry = 1\n",
    "    value -= 10\n",
    "    output.append(value)\n",
    "carry = 0\n",
    "\n",
    "l1_num = l1_next.val\n",
    "l2_num = l2_next.val\n",
    "\n",
    "output\n",
    "\n",
    "def add_number(l1, l2, carry):\n",
    "    l1_num = l1.val\n",
    "    l2_num = l2.val\n",
    "    \n",
    "    value = l1_num + l2_num + carry\n",
    "    if value >= 10:\n",
    "        value -= 10\n",
    "        carry = 1\n",
    "        \n",
    "    return value, carry\n",
    "\n"
   ]
  },
  {
   "cell_type": "code",
   "execution_count": 3,
   "metadata": {},
   "outputs": [
    {
     "name": "stdout",
     "output_type": "stream",
     "text": [
      "[7, 0, 8]\n"
     ]
    }
   ],
   "source": [
    "\n",
    "# l1 = ListNode(9, ListNode(9, ListNode(9, ListNode(9, ListNode(9, ListNode(9, ListNode(9)))))))\n",
    "# l2 = ListNode(9, ListNode(9, ListNode(9, ListNode(9))))\n",
    "\n",
    "# l1 = ListNode(2, ListNode(4, ListNode(3)))\n",
    "# l2 = ListNode(5, ListNode(6, ListNode(4)))\n",
    "\n",
    "l1 = ListNode(2, ListNode(4, ListNode(3)))\n",
    "l2 = ListNode(5, ListNode(6, ListNode(4)))\n",
    "\n",
    "l1_list = []\n",
    "l2_list = []\n",
    "while l1:\n",
    "    l1_list.append(l1.val)\n",
    "    l1 = l1.next\n",
    "while l2:\n",
    "    l2_list.append(l2.val)\n",
    "    l2 = l2.next\n",
    "    \n",
    "\n",
    "# print(l1_list, l2_list)\n",
    "result = []\n",
    "carry = 0\n",
    "if len(l1_list) >= len(l2_list):\n",
    "    # 리스트의 수를 맞춤\n",
    "    if not len(l1_list) == len(l2_list):\n",
    "        length = len(l1_list) - len(l2_list)\n",
    "        for _ in range(length):\n",
    "            l2_list.append(0)\n",
    "    \n",
    "    for l1_num, l2_num in zip(l1_list, l2_list):\n",
    "        add_num = l1_num + l2_num + carry\n",
    "        # print(add_num)\n",
    "        carry = 0\n",
    "        if add_num >= 10:\n",
    "            carry = 1\n",
    "            add_num -= 10\n",
    "            result.append(add_num)\n",
    "        else:\n",
    "            result.append(add_num)\n",
    "            \n",
    "    if carry == 1:\n",
    "        result.append(carry)\n",
    "\n",
    "print(result)\n",
    "idx = 0\n",
    "output = None\n",
    "prev = None\n",
    "\n",
    "\n",
    "for idx, result_val in enumerate(result):\n",
    "    current_node = ListNode(result_val)\n",
    "    if idx == 0:\n",
    "        output = current_node  # 첫 번째 노드는 head로 설정\n",
    "    else:\n",
    "        prev_node.next = current_node  # 이전 노드의 next를 현재 노드로 연결\n",
    "    prev_node = current_node  # 현재 노드를 이전 노드로 설정\n",
    "    \n",
    "\n",
    "# while output:\n",
    "#     idx += 1\n",
    "#     output = output.next\n",
    "#     if not answer == None:\n",
    "#         answer.next = ListNode(output[idx])\n",
    "#         answer = answer.next\n",
    "\n"
   ]
  },
  {
   "cell_type": "code",
   "execution_count": 4,
   "metadata": {},
   "outputs": [
    {
     "name": "stdout",
     "output_type": "stream",
     "text": [
      "7 4\n"
     ]
    }
   ],
   "source": [
    "class ListNode:\n",
    "    def __init__(self, val=0, next=None):\n",
    "        self.val = val\n",
    "        self.next = next\n",
    "    def __repr__(self):\n",
    "        return f\"ListNode{{val: {self.val}, next: {repr(self.next)}}}\"\n",
    "\n",
    "l1 = ListNode(9, ListNode(9, ListNode(9, ListNode(9, ListNode(9, ListNode(9, ListNode(9)))))))\n",
    "l2 = ListNode(9, ListNode(9, ListNode(9, ListNode(9))))\n",
    "\n",
    "# 각 노드 개수\n",
    "l1_count = 0\n",
    "l2_count = 0\n",
    "while l1 != None:\n",
    "    l1_count += 1\n",
    "    l1 = l1.next\n",
    "while l2 != None:\n",
    "    l2_count += 1\n",
    "    l2 = l2.next\n",
    "\n",
    "print(l1_count, l2_count)\n"
   ]
  },
  {
   "cell_type": "code",
   "execution_count": 5,
   "metadata": {},
   "outputs": [
    {
     "data": {
      "text/plain": [
       "ListNode{val: 0, next: None}"
      ]
     },
     "execution_count": 5,
     "metadata": {},
     "output_type": "execute_result"
    }
   ],
   "source": [
    "carry = 0\n",
    "head = ListNode(0)\n",
    "curr = head\n",
    "\n",
    "if l1_count > l2_count:\n",
    "    while l2 != None:\n",
    "        l1_num = l1.val\n",
    "        l2_num = l2.val\n",
    "        \n",
    "        node_sum = l1_num + l2_num + carry\n",
    "        carry = node_sum // 10\n",
    "        new_node = ListNode(node_sum % 10)\n",
    "        \n",
    "        curr.next = new_node\n",
    "        curr = new_node\n",
    "        \n",
    "        l1 = l1.next\n",
    "        l2 = l2.next\n",
    "        \n",
    "head"
   ]
  },
  {
   "cell_type": "code",
   "execution_count": 6,
   "metadata": {},
   "outputs": [],
   "source": [
    "\n",
    "dummyHead = ListNode(0)\n",
    "curr = dummyHead\n",
    "carry = 0\n",
    "while l1 != None or l2 != None or carry != 0:\n",
    "    l1Val = l1.val if l1 else 0\n",
    "    l2Val = l2.val if l2 else 0 \n",
    "    columnSum = l1Val + l2Val + carry\n",
    "    carry = columnSum // 10\n",
    "    newNode = ListNode(columnSum % 10)\n",
    "    curr.next = newNode\n",
    "    curr = newNode\n",
    "    l1 = l1.next if l1 else None\n",
    "    l2 = l2.next if l2 else None\n"
   ]
  },
  {
   "cell_type": "code",
   "execution_count": null,
   "metadata": {},
   "outputs": [],
   "source": []
  }
 ],
 "metadata": {
  "kernelspec": {
   "display_name": "base",
   "language": "python",
   "name": "python3"
  },
  "language_info": {
   "codemirror_mode": {
    "name": "ipython",
    "version": 3
   },
   "file_extension": ".py",
   "mimetype": "text/x-python",
   "name": "python",
   "nbconvert_exporter": "python",
   "pygments_lexer": "ipython3",
   "version": "3.12.2"
  }
 },
 "nbformat": 4,
 "nbformat_minor": 2
}
