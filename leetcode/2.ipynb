{
  "cells": [
    {
      "cell_type": "code",
      "execution_count": 1,
      "metadata": {
        "id": "8KWYCjd_8cCE",
        "outputId": "7b37e8ab-abd3-4770-bc8c-6b5f3e259a68",
        "colab": {
          "base_uri": "https://localhost:8080/"
        }
      },
      "outputs": [
        {
          "output_type": "stream",
          "name": "stdout",
          "text": [
            "ListNode{val: 2, next: ListNode{val: 4, next: ListNode{val: 3, next: None}}}\n",
            "ListNode{val: 5, next: ListNode{val: 6, next: ListNode{val: 4, next: None}}}\n"
          ]
        }
      ],
      "source": [
        "l1 = [9,9,9,9,9,9,9]\n",
        "l2 = [9,9,9,9]\n",
        "\n",
        "class ListNode:\n",
        "    def __init__(self, val=0, next=None):\n",
        "        self.val = val\n",
        "        self.next = next\n",
        "    def __repr__(self):\n",
        "        return f\"ListNode{{val: {self.val}, next: {repr(self.next)}}}\"\n",
        "\n",
        "l1 = ListNode(2, ListNode(4, ListNode(3)))\n",
        "l2 = ListNode(5, ListNode(6, ListNode(4)))\n",
        "\n",
        "print(l1)\n",
        "print(l2)"
      ]
    },
    {
      "cell_type": "code",
      "execution_count": 2,
      "metadata": {
        "id": "-JXHn0H78cCH",
        "outputId": "f8eb14b6-ceaa-455c-9a73-c664e862bb9f",
        "colab": {
          "base_uri": "https://localhost:8080/",
          "height": 221
        }
      },
      "outputs": [
        {
          "output_type": "error",
          "ename": "TypeError",
          "evalue": "object of type 'ListNode' has no len()",
          "traceback": [
            "\u001b[0;31m---------------------------------------------------------------------------\u001b[0m",
            "\u001b[0;31mTypeError\u001b[0m                                 Traceback (most recent call last)",
            "\u001b[0;32m<ipython-input-2-e7d11bd6ef35>\u001b[0m in \u001b[0;36m<cell line: 0>\u001b[0;34m()\u001b[0m\n\u001b[1;32m      1\u001b[0m \u001b[0moutput\u001b[0m \u001b[0;34m=\u001b[0m \u001b[0;34m[\u001b[0m\u001b[0;34m]\u001b[0m\u001b[0;34m\u001b[0m\u001b[0;34m\u001b[0m\u001b[0m\n\u001b[1;32m      2\u001b[0m \u001b[0mcarry\u001b[0m \u001b[0;34m=\u001b[0m \u001b[0;36m0\u001b[0m\u001b[0;34m\u001b[0m\u001b[0;34m\u001b[0m\u001b[0m\n\u001b[0;32m----> 3\u001b[0;31m \u001b[0;32mif\u001b[0m \u001b[0mlen\u001b[0m\u001b[0;34m(\u001b[0m\u001b[0ml1\u001b[0m\u001b[0;34m)\u001b[0m \u001b[0;34m>=\u001b[0m \u001b[0mlen\u001b[0m\u001b[0;34m(\u001b[0m\u001b[0ml2\u001b[0m\u001b[0;34m)\u001b[0m\u001b[0;34m:\u001b[0m\u001b[0;34m\u001b[0m\u001b[0;34m\u001b[0m\u001b[0m\n\u001b[0m\u001b[1;32m      4\u001b[0m     \u001b[0;31m# 리스트의 수를 맞춤\u001b[0m\u001b[0;34m\u001b[0m\u001b[0;34m\u001b[0m\u001b[0m\n\u001b[1;32m      5\u001b[0m     \u001b[0;32mif\u001b[0m \u001b[0;32mnot\u001b[0m \u001b[0mlen\u001b[0m\u001b[0;34m(\u001b[0m\u001b[0ml1\u001b[0m\u001b[0;34m)\u001b[0m \u001b[0;34m==\u001b[0m \u001b[0mlen\u001b[0m\u001b[0;34m(\u001b[0m\u001b[0ml2\u001b[0m\u001b[0;34m)\u001b[0m\u001b[0;34m:\u001b[0m\u001b[0;34m\u001b[0m\u001b[0;34m\u001b[0m\u001b[0m\n",
            "\u001b[0;31mTypeError\u001b[0m: object of type 'ListNode' has no len()"
          ]
        }
      ],
      "source": [
        "output = []\n",
        "carry = 0\n",
        "if len(l1) >= len(l2):\n",
        "    # 리스트의 수를 맞춤\n",
        "    if not len(l1) == len(l2):\n",
        "        length = len(l1) - len(l2)\n",
        "        for _ in range(length):\n",
        "            l2.append(0)\n",
        "\n",
        "    for l1_num, l2_num in zip(l1, l2):\n",
        "        add_num = l1_num + l2_num + carry\n",
        "        carry = 0\n",
        "        if add_num >= 10:\n",
        "            carry = 1\n",
        "            add_num -= 10\n",
        "            output.append(add_num)\n",
        "\n",
        "    if carry == 1:\n",
        "        output.append(carry)\n",
        "output"
      ]
    },
    {
      "cell_type": "code",
      "execution_count": 3,
      "metadata": {
        "id": "t2KIqLp88cCI"
      },
      "outputs": [],
      "source": [
        "carry = 0\n",
        "output = []\n",
        "\n",
        "l1_num = l1.val\n",
        "l2_num = l2.val\n",
        "\n",
        "l1_next = l1.next\n",
        "l2_next = l2.next\n",
        "\n",
        "# print(l1_num, l2_num)\n",
        "\n",
        "if not l1_next == None:\n",
        "    l1_next = l1_next.next\n",
        "if not l2_next == None:\n",
        "    l2_next = l2_next.next\n",
        "\n",
        "value = l1_num + l2_num + carry\n",
        "\n",
        "if value >= 10:\n",
        "    carry = 1\n",
        "    value -= 10\n",
        "    output.append(value)\n",
        "carry = 0\n",
        "\n",
        "l1_num = l1_next.val\n",
        "l2_num = l2_next.val\n",
        "\n",
        "output\n",
        "\n",
        "def add_number(l1, l2, carry):\n",
        "    l1_num = l1.val\n",
        "    l2_num = l2.val\n",
        "\n",
        "    value = l1_num + l2_num + carry\n",
        "    if value >= 10:\n",
        "        value -= 10\n",
        "        carry = 1\n",
        "\n",
        "    return value, carry\n",
        "\n"
      ]
    },
    {
      "cell_type": "code",
      "execution_count": 4,
      "metadata": {
        "id": "oGH_VH1V8cCJ",
        "outputId": "315d4c7d-7652-46f5-9805-d9dcd6fb935d",
        "colab": {
          "base_uri": "https://localhost:8080/"
        }
      },
      "outputs": [
        {
          "output_type": "stream",
          "name": "stdout",
          "text": [
            "[7, 0, 8]\n"
          ]
        }
      ],
      "source": [
        "\n",
        "# l1 = ListNode(9, ListNode(9, ListNode(9, ListNode(9, ListNode(9, ListNode(9, ListNode(9)))))))\n",
        "# l2 = ListNode(9, ListNode(9, ListNode(9, ListNode(9))))\n",
        "\n",
        "# l1 = ListNode(2, ListNode(4, ListNode(3)))\n",
        "# l2 = ListNode(5, ListNode(6, ListNode(4)))\n",
        "\n",
        "l1 = ListNode(2, ListNode(4, ListNode(3)))\n",
        "l2 = ListNode(5, ListNode(6, ListNode(4)))\n",
        "\n",
        "l1_list = []\n",
        "l2_list = []\n",
        "while l1:\n",
        "    l1_list.append(l1.val)\n",
        "    l1 = l1.next\n",
        "while l2:\n",
        "    l2_list.append(l2.val)\n",
        "    l2 = l2.next\n",
        "\n",
        "\n",
        "# print(l1_list, l2_list)\n",
        "result = []\n",
        "carry = 0\n",
        "if len(l1_list) >= len(l2_list):\n",
        "    # 리스트의 수를 맞춤\n",
        "    if not len(l1_list) == len(l2_list):\n",
        "        length = len(l1_list) - len(l2_list)\n",
        "        for _ in range(length):\n",
        "            l2_list.append(0)\n",
        "\n",
        "    for l1_num, l2_num in zip(l1_list, l2_list):\n",
        "        add_num = l1_num + l2_num + carry\n",
        "        # print(add_num)\n",
        "        carry = 0\n",
        "        if add_num >= 10:\n",
        "            carry = 1\n",
        "            add_num -= 10\n",
        "            result.append(add_num)\n",
        "        else:\n",
        "            result.append(add_num)\n",
        "\n",
        "    if carry == 1:\n",
        "        result.append(carry)\n",
        "\n",
        "print(result)\n",
        "idx = 0\n",
        "output = None\n",
        "prev = None\n",
        "\n",
        "\n",
        "for idx, result_val in enumerate(result):\n",
        "    current_node = ListNode(result_val)\n",
        "    if idx == 0:\n",
        "        output = current_node  # 첫 번째 노드는 head로 설정\n",
        "    else:\n",
        "        prev_node.next = current_node  # 이전 노드의 next를 현재 노드로 연결\n",
        "    prev_node = current_node  # 현재 노드를 이전 노드로 설정\n",
        "\n",
        "\n",
        "# while output:\n",
        "#     idx += 1\n",
        "#     output = output.next\n",
        "#     if not answer == None:\n",
        "#         answer.next = ListNode(output[idx])\n",
        "#         answer = answer.next\n",
        "\n"
      ]
    },
    {
      "cell_type": "code",
      "execution_count": 5,
      "metadata": {
        "id": "eMDsO2B78cCK",
        "outputId": "d5f4767b-a8c1-4ad9-91fe-3670492f706c",
        "colab": {
          "base_uri": "https://localhost:8080/"
        }
      },
      "outputs": [
        {
          "output_type": "stream",
          "name": "stdout",
          "text": [
            "7 4\n"
          ]
        }
      ],
      "source": [
        "class ListNode:\n",
        "    def __init__(self, val=0, next=None):\n",
        "        self.val = val\n",
        "        self.next = next\n",
        "    def __repr__(self):\n",
        "        return f\"ListNode{{val: {self.val}, next: {repr(self.next)}}}\"\n",
        "\n",
        "l1 = ListNode(9, ListNode(9, ListNode(9, ListNode(9, ListNode(9, ListNode(9, ListNode(9)))))))\n",
        "l2 = ListNode(9, ListNode(9, ListNode(9, ListNode(9))))\n",
        "\n",
        "# 각 노드 개수\n",
        "l1_count = 0\n",
        "l2_count = 0\n",
        "while l1 != None:\n",
        "    l1_count += 1\n",
        "    l1 = l1.next\n",
        "while l2 != None:\n",
        "    l2_count += 1\n",
        "    l2 = l2.next\n",
        "\n",
        "print(l1_count, l2_count)\n"
      ]
    },
    {
      "cell_type": "code",
      "execution_count": 6,
      "metadata": {
        "id": "dUPSslkR8cCK",
        "outputId": "3a801d94-4c98-4087-bd94-3186cd679841",
        "colab": {
          "base_uri": "https://localhost:8080/"
        }
      },
      "outputs": [
        {
          "output_type": "execute_result",
          "data": {
            "text/plain": [
              "ListNode{val: 0, next: None}"
            ]
          },
          "metadata": {},
          "execution_count": 6
        }
      ],
      "source": [
        "carry = 0\n",
        "head = ListNode(0)\n",
        "curr = head\n",
        "\n",
        "if l1_count > l2_count:\n",
        "    while l2 != None:\n",
        "        l1_num = l1.val\n",
        "        l2_num = l2.val\n",
        "\n",
        "        node_sum = l1_num + l2_num + carry\n",
        "        carry = node_sum // 10\n",
        "        new_node = ListNode(node_sum % 10)\n",
        "\n",
        "        curr.next = new_node\n",
        "        curr = new_node\n",
        "\n",
        "        l1 = l1.next\n",
        "        l2 = l2.next\n",
        "\n",
        "head"
      ]
    },
    {
      "cell_type": "code",
      "execution_count": 21,
      "metadata": {
        "id": "ud-yklYb8cCL"
      },
      "outputs": [],
      "source": [
        "\n",
        "dummyHead = ListNode(0)\n",
        "curr = dummyHead\n",
        "carry = 0\n",
        "while l1 != None or l2 != None or carry != 0:\n",
        "    l1Val = l1.val if l1 else 0\n",
        "    l2Val = l2.val if l2 else 0\n",
        "    columnSum = l1Val + l2Val + carry\n",
        "    carry = columnSum // 10\n",
        "    newNode = ListNode(columnSum % 10)\n",
        "    curr.next = newNode\n",
        "    curr = newNode\n",
        "    l1 = l1.next if l1 else None\n",
        "    l2 = l2.next if l2 else None\n"
      ]
    },
    {
      "cell_type": "code",
      "execution_count": 32,
      "metadata": {
        "id": "5xtSaTm48cCM",
        "outputId": "7b62f861-8749-47fa-8b56-e3386bf2146f",
        "colab": {
          "base_uri": "https://localhost:8080/"
        }
      },
      "outputs": [
        {
          "output_type": "stream",
          "name": "stdout",
          "text": [
            "ListNode{val: 9, next: ListNode{val: 9, next: ListNode{val: 9, next: ListNode{val: 9, next: ListNode{val: 9, next: ListNode{val: 9, next: ListNode{val: 9, next: None}}}}}}} ListNode{val: 9, next: ListNode{val: 9, next: ListNode{val: 9, next: ListNode{val: 9, next: None}}}}\n"
          ]
        }
      ],
      "source": [
        "l1 = ListNode(2, ListNode(4, ListNode(3)))\n",
        "l2 = ListNode(5, ListNode(6, ListNode(4)))\n",
        "\n",
        "l1 = ListNode(9, ListNode(9, ListNode(9, ListNode(9, ListNode(9, ListNode(9, ListNode(9)))))))\n",
        "l2 = ListNode(9, ListNode(9, ListNode(9, ListNode(9))))\n",
        "\n",
        "print(l1, l2)"
      ]
    },
    {
      "cell_type": "code",
      "source": [
        "# 더미 헤드 만들기\n",
        "dummyHead = ListNode(0)\n",
        "curr = dummyHead\n",
        "carry = 0 # 올림수 초기화\n",
        "\n",
        "# l1, l2가 None이 아니거나 올림수(carry)의 값이 0이 아닌경우에 반복\n",
        "# l1, l2중 하나가 None인 경우(둘의 길이가 다를 경우)에도 승수가 있을 경우에 계속 작동\n",
        "while l1 is not None or l2 is not None or carry != 0:\n",
        "\n",
        "  '''\n",
        "  본래 l1과 l2가 같은 경우에는\n",
        "  l1_num = l1.val\n",
        "  l2_num = l2.val\n",
        "  이것으로 작동 했지만 둘의 길이가 달랐을 때에는 l1.val, l2.val 둘 중 하나에서 오류가 발생했다.\n",
        "\n",
        "  어차피 계산식이 끝난 경우(l1, l2 모두 None이 나오고 올림수가 0인 경우)에는 자동으로 종료되기 때문에 계산 할 때 0 대입\n",
        "  '''\n",
        "  l1_num = l1.val if l1 is not None else 0\n",
        "  l2_num = l2.val if l2 is not None else 0\n",
        "\n",
        "  num_sum = l1_num + l2_num + carry\n",
        "  carry = num_sum // 10\n",
        "  new_node = ListNode(num_sum % 10)\n",
        "  curr.next = new_node\n",
        "  curr = curr.next\n",
        "\n",
        "  '''\n",
        "  여기도 마찬가지로 길이가 다를 경우에는 next 값이 없어 에러가 발생한다.\n",
        "  따라서 None이 아닌 경우에만 next로 이동하고 None인 경우에는 None을 계속 지속시킨다.\n",
        "  '''\n",
        "  l1 = l1.next if l1 is not None else None\n",
        "  l2 = l2.next if l2 is not None else None\n",
        "\n",
        "print(dummyHead.next)\n",
        "\n",
        "# 값 보기 편하게 출력\n",
        "print('[', end='')\n",
        "while dummyHead.next is not None:\n",
        "    print(dummyHead.next.val, end=' ')\n",
        "    dummyHead = dummyHead.next\n",
        "print(']', end='')"
      ],
      "metadata": {
        "id": "af6M2bbF99sA",
        "outputId": "feab8b7e-33b1-4f71-8bcf-c873f024353c",
        "colab": {
          "base_uri": "https://localhost:8080/"
        }
      },
      "execution_count": 33,
      "outputs": [
        {
          "output_type": "stream",
          "name": "stdout",
          "text": [
            "ListNode{val: 8, next: ListNode{val: 9, next: ListNode{val: 9, next: ListNode{val: 9, next: ListNode{val: 0, next: ListNode{val: 0, next: ListNode{val: 0, next: ListNode{val: 1, next: None}}}}}}}}\n",
            "[8 9 9 9 0 0 0 1 ]"
          ]
        }
      ]
    },
    {
      "cell_type": "code",
      "source": [],
      "metadata": {
        "id": "Cn5J99vg-445"
      },
      "execution_count": null,
      "outputs": []
    }
  ],
  "metadata": {
    "kernelspec": {
      "display_name": "base",
      "language": "python",
      "name": "python3"
    },
    "language_info": {
      "codemirror_mode": {
        "name": "ipython",
        "version": 3
      },
      "file_extension": ".py",
      "mimetype": "text/x-python",
      "name": "python",
      "nbconvert_exporter": "python",
      "pygments_lexer": "ipython3",
      "version": "3.12.2"
    },
    "colab": {
      "provenance": []
    }
  },
  "nbformat": 4,
  "nbformat_minor": 0
}