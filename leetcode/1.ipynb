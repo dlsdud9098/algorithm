{
 "cells": [
  {
   "cell_type": "code",
   "execution_count": null,
   "metadata": {},
   "outputs": [],
   "source": [
    "class Solution:\n",
    "    def twoSum(self, nums: List[int], target: int) -> List[int]:\n",
    "        for i_idx, i in enumerate(nums):\n",
    "            for j_idx, j in enumerate(nums[i_idx+1:]):\n",
    "                if i + j == target:\n",
    "                    return [i_idx, j_idx+i_idx+1]"
   ]
  },
  {
   "cell_type": "code",
   "execution_count": null,
   "metadata": {},
   "outputs": [],
   "source": [
    "# 해시맵을 사용한 Two Sum\n",
    "num_map = {}  # 값을 키로, 인덱스를 값으로 저장\n",
    "for i, num in enumerate(nums):\n",
    "    complement = target - num  # 현재 숫자와 더해서 target이 되는 값\n",
    "    if complement in num_map:\n",
    "        return [num_map[complement], i]\n",
    "    num_map[num] = i # 없으면 num_map에 데이터 삽입"
   ]
  }
 ],
 "metadata": {
  "language_info": {
   "name": "python"
  }
 },
 "nbformat": 4,
 "nbformat_minor": 2
}
